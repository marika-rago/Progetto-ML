{
  "nbformat": 4,
  "nbformat_minor": 0,
  "metadata": {
    "colab": {
      "provenance": [],
      "authorship_tag": "ABX9TyNU4aUmGOAvPGkbzw3x8HGq",
      "include_colab_link": true
    },
    "kernelspec": {
      "name": "python3",
      "display_name": "Python 3"
    },
    "language_info": {
      "name": "python"
    }
  },
  "cells": [
    {
      "cell_type": "markdown",
      "metadata": {
        "id": "view-in-github",
        "colab_type": "text"
      },
      "source": [
        "<a href=\"https://colab.research.google.com/github/marika-rago/Progetto-ML/blob/main/codice_progetto.ipynb\" target=\"_parent\"><img src=\"https://colab.research.google.com/assets/colab-badge.svg\" alt=\"Open In Colab\"/></a>"
      ]
    },
    {
      "cell_type": "code",
      "execution_count": 1,
      "metadata": {
        "id": "2s31p1UiJzlG",
        "colab": {
          "base_uri": "https://localhost:8080/"
        },
        "outputId": "cb777612-23e3-47db-d6a0-922fdd58ccba"
      },
      "outputs": [
        {
          "output_type": "stream",
          "name": "stdout",
          "text": [
            "ciao\n"
          ]
        }
      ],
      "source": [
        "print ('ciao')"
      ]
    },
    {
      "cell_type": "code",
      "source": [
        "print ('albero')"
      ],
      "metadata": {
        "colab": {
          "base_uri": "https://localhost:8080/"
        },
        "id": "cuSKRZJBKr-t",
        "outputId": "c6830662-d670-4ca4-a360-07c73febbd49"
      },
      "execution_count": 2,
      "outputs": [
        {
          "output_type": "stream",
          "name": "stdout",
          "text": [
            "albero\n"
          ]
        }
      ]
    }
  ]
}