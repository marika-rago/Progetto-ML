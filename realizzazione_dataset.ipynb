{
  "nbformat": 4,
  "nbformat_minor": 0,
  "metadata": {
    "colab": {
      "provenance": [],
      "authorship_tag": "ABX9TyNEL5WPjMOZxs0bFcKUByC+",
      "include_colab_link": true
    },
    "kernelspec": {
      "name": "python3",
      "display_name": "Python 3"
    },
    "language_info": {
      "name": "python"
    }
  },
  "cells": [
    {
      "cell_type": "markdown",
      "metadata": {
        "id": "view-in-github",
        "colab_type": "text"
      },
      "source": [
        "<a href=\"https://colab.research.google.com/github/marika-rago/Progetto-ML/blob/main/realizzazione_dataset.ipynb\" target=\"_parent\"><img src=\"https://colab.research.google.com/assets/colab-badge.svg\" alt=\"Open In Colab\"/></a>"
      ]
    },
    {
      "cell_type": "code",
      "execution_count": 11,
      "metadata": {
        "id": "2s31p1UiJzlG",
        "outputId": "9b503bd8-3797-4f6a-accd-5d3ff8c87a9d",
        "colab": {
          "base_uri": "https://localhost:8080/"
        }
      },
      "outputs": [
        {
          "output_type": "stream",
          "name": "stdout",
          "text": [
            "Drive already mounted at /content/drive; to attempt to forcibly remount, call drive.mount(\"/content/drive\", force_remount=True).\n"
          ]
        }
      ],
      "source": [
        "from google.colab import drive\n",
        "drive.mount('/content/drive')"
      ]
    },
    {
      "cell_type": "code",
      "source": [
        "import os\n",
        "import librosa\n",
        "import soundfile as sf\n",
        "import numpy as np\n",
        "from pydub import AudioSegment\n",
        "import matplotlib.pyplot as plt\n",
        "import random"
      ],
      "metadata": {
        "id": "1nM0lRrKWCkP"
      },
      "execution_count": 12,
      "outputs": []
    },
    {
      "cell_type": "code",
      "source": [
        "input_path = \"/content/drive/MyDrive/Progetto ML/mus18db/train\"\n",
        "hq_dir = \"/content/drive/MyDrive/Progetto ML/mus18db_ridotto/HQ\"\n",
        "\n",
        "os.makedirs(hq_dir, exist_ok=True)\n"
      ],
      "metadata": {
        "id": "sx0kgq4iWst2"
      },
      "execution_count": 16,
      "outputs": []
    },
    {
      "cell_type": "code",
      "source": [
        "# numero di brani da selezionare\n",
        "n_files = 10   # cambia questo numero a piacere\n",
        "\n",
        "# settiamo un seed per la riproducibilità\n",
        "random.seed(42)\n",
        "\n",
        "# lista di tutti i file .wav\n",
        "all_files = [f for f in os.listdir(input_path) if os.path.isdir(os.path.join(input_path, f))]\n",
        "\n",
        "# selezione random di n_files (senza ripetizioni)\n",
        "files = random.sample(all_files, n_files)\n",
        "\n",
        "print(f\"Brani selezionati ({n_files}):\")\n",
        "for f in files:\n",
        "    print(\"-\", f)"
      ],
      "metadata": {
        "id": "wrnGBOtGWDqJ",
        "outputId": "17a72481-2fe0-4229-fb2a-46d3dfe73822",
        "colab": {
          "base_uri": "https://localhost:8080/"
        }
      },
      "execution_count": 17,
      "outputs": [
        {
          "output_type": "stream",
          "name": "stdout",
          "text": [
            "Brani selezionati (10):\n",
            "- Chris Durban - Celebrate\n",
            "- The Scarlet Brand - Les Fleurs Du Mal\n",
            "- Young Griffo - Blood To Bone\n",
            "- Alexander Ross - Goodbye Bolero\n",
            "- Music Delta - Reggae\n",
            "- North To Alaska - All The Same\n",
            "- Phre The Eon - Everybody's Falling Apart\n",
            "- Strand Of Oaks - Spacestation\n",
            "- The Long Wait - Back Home To Blue\n",
            "- AvaLuna - Waterduct\n"
          ]
        }
      ]
    },
    {
      "cell_type": "code",
      "source": [
        "clip_duration = 10  # secondi\n",
        "n_clips_per_track = 3  # quante clip estrarre per ogni brano\n",
        "\n",
        "for f in files:\n",
        "    file_path = os.path.join(input_path, f, \"mixture.wav\") # percorso completo file audio\n",
        "    # \"mixture.wav\" è la canzone completa\n",
        "\n",
        "    if not os.path.exists(file_path):\n",
        "        continue\n",
        "\n",
        "    y, sr = librosa.load(file_path, sr=None, mono=False)\n",
        "    # y è il waveform (array NumPy) normalizzato in [-1, 1]\n",
        "    # sr è il sample rate originale del file\n",
        "\n",
        "    total_duration = librosa.get_duration(y=y, sr=sr)\n",
        "\n",
        "    for i in range(n_clips_per_track):\n",
        "        # scegle inizio casuale evitando di uscire dalla fine\n",
        "        max_start = total_duration - clip_duration\n",
        "        if max_start <= 0:\n",
        "            # se il brano è più corto di 10s, salta\n",
        "            continue\n",
        "\n",
        "        # Converte l’istante di inizio in intero e calcola la fine\n",
        "        start_time = random.uniform(0, max_start)\n",
        "        start = int(start_time * sr)\n",
        "        end = min(start + clip_duration * sr, y.shape[1])\n",
        "        clip = y[:, start:end]  # stereo: (2, n_samples)\n",
        "\n",
        "        out_file = os.path.join(hq_dir, f\"{f.replace(' ', '_')}_clip{i}.wav\")\n",
        "\n",
        "        # soundfile vuole (n_samples, n_channels)\n",
        "        sf.write(out_file, clip.T, sr)\n"
      ],
      "metadata": {
        "id": "Xyt2VMKbbD4k"
      },
      "execution_count": 18,
      "outputs": []
    }
  ]
}