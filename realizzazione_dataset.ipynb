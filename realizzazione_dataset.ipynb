{
  "nbformat": 4,
  "nbformat_minor": 0,
  "metadata": {
    "colab": {
      "provenance": [],
      "authorship_tag": "ABX9TyO/fio1mYiaTRxdZF+tiii4",
      "include_colab_link": true
    },
    "kernelspec": {
      "name": "python3",
      "display_name": "Python 3"
    },
    "language_info": {
      "name": "python"
    }
  },
  "cells": [
    {
      "cell_type": "markdown",
      "metadata": {
        "id": "view-in-github",
        "colab_type": "text"
      },
      "source": [
        "<a href=\"https://colab.research.google.com/github/marika-rago/Progetto-ML/blob/main/realizzazione_dataset.ipynb\" target=\"_parent\"><img src=\"https://colab.research.google.com/assets/colab-badge.svg\" alt=\"Open In Colab\"/></a>"
      ]
    },
    {
      "cell_type": "code",
      "execution_count": null,
      "metadata": {
        "id": "2s31p1UiJzlG"
      },
      "outputs": [],
      "source": [
        "from google.colab import drive\n",
        "drive.mount('/content/drive')"
      ]
    },
    {
      "cell_type": "code",
      "source": [
        "import os\n",
        "import librosa\n",
        "import soundfile as sf\n",
        "import numpy as np\n",
        "from pydub import AudioSegment\n",
        "import matplotlib.pyplot as plt\n",
        "import random"
      ],
      "metadata": {
        "id": "1nM0lRrKWCkP"
      },
      "execution_count": null,
      "outputs": []
    },
    {
      "cell_type": "code",
      "source": [
        "input_path = \"/content/drive/MyDrive/musdb18/train/\" # da modificare\n",
        "output_path = \"/content/drive/MyDrive/musdb18_reduced/\" # da modificare\n",
        "\n",
        "os.makedirs(output_path, exist_ok=True)\n",
        "hq_dir = os.path.join(output_path, \"HQ\")\n",
        "os.makedirs(hq_dir, exist_ok=True)"
      ],
      "metadata": {
        "id": "sx0kgq4iWst2"
      },
      "execution_count": null,
      "outputs": []
    },
    {
      "cell_type": "code",
      "source": [
        "# numero di brani da selezionare\n",
        "n_files = 10   # cambia questo numero a piacere\n",
        "\n",
        "# lista di tutti i file .wav\n",
        "all_files = [f for f in os.listdir(input_path) if f.endswith(\".wav\")]\n",
        "\n",
        "# settiamo un seed per la riproducibilità\n",
        "random.seed(42)\n",
        "\n",
        "# selezione random di n_files (senza ripetizioni)\n",
        "files = random.sample(all_files, n_files)\n",
        "\n",
        "print(f\"Brani selezionati ({n_files}):\")\n",
        "for f in files:\n",
        "    print(\"-\", f)"
      ],
      "metadata": {
        "id": "wrnGBOtGWDqJ"
      },
      "execution_count": null,
      "outputs": []
    },
    {
      "cell_type": "code",
      "source": [
        "clip_duration = 10  # secondi\n",
        "n_clips_per_track = 3  # quante clip estrarre per ogni brano\n",
        "\n",
        "for f in files:\n",
        "    file_path = os.path.join(input_path, f) # percorso completo file audio\n",
        "    y, sr = librosa.load(file_path, sr=None)\n",
        "    # y è il waveform (array NumPy) normalizzato in [-1, 1]\n",
        "    # sr è il sample rate originale del file\n",
        "\n",
        "    total_duration = librosa.get_duration(y=y, sr=sr)\n",
        "\n",
        "    for i in range(n_clips_per_track):\n",
        "        # scegle inizio casuale evitando di uscire dalla fine\n",
        "        max_start = total_duration - clip_duration\n",
        "        if max_start <= 0:\n",
        "            # se il brano è più corto di 10s, salta\n",
        "            continue\n",
        "\n",
        "        # Converte l’istante di inizio in intero e calcola la fine\n",
        "        start_time = random.uniform(0, max_start)\n",
        "        start = int(start_time * sr)\n",
        "        end = start + clip_duration * sr\n",
        "        clip = y[start:end] # Estre dal waveform y la finestra corrispondente alla clip\n",
        "\n",
        "        out_file = os.path.join(hq_dir, f\"{f.replace('.wav','')}_clip{i}.wav\")\n",
        "        # Prepara il nome file di uscita dentro la cartella HQ, con suffisso _clip{i}\n",
        "\n",
        "        sf.write(out_file, clip, sr) # Salva la clip su disco in formato WAV"
      ],
      "metadata": {
        "id": "Xyt2VMKbbD4k"
      },
      "execution_count": null,
      "outputs": []
    }
  ]
}